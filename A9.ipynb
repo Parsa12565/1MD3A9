{
 "cells": [
  {
   "cell_type": "markdown",
   "metadata": {
    "deletable": false,
    "editable": false,
    "nbgrader": {
     "cell_type": "markdown",
     "checksum": "9fb457196c5ef595e90d6cbdd667af7b",
     "grade": false,
     "grade_id": "cell-8270991a73638fc0",
     "locked": true,
     "schema_version": 3,
     "solution": false
    }
   },
   "source": [
    "### Lab 9 Assigned Monday, Mar 23, due Wednesday, Mar 29, 11:59pm\n",
    "### Maximum grade: 19 / 16\n",
    "\n",
    "The purpose of this lab is to:\n",
    "* Work with external files\n",
    "* Learn about csv and JSON data\n",
    "* Work with network / remote files"
   ]
  },
  {
   "cell_type": "markdown",
   "metadata": {
    "deletable": false,
    "editable": false,
    "nbgrader": {
     "cell_type": "markdown",
     "checksum": "4b933f230322fad3e80aacfaa1b19c13",
     "grade": false,
     "grade_id": "cell-6483651a2b85b9da",
     "locked": true,
     "schema_version": 3,
     "solution": false
    }
   },
   "source": [
    "#### Practice Question 1: Reading and Writing Plaintext Files\n",
    "\n",
    "One of the most common ways to represent data is as *plain text*. This is different from rich text. as used by programs like Word, or your web browser, which can be stylized in some way, such as **bold** *italicized*, or <font color='red'>coloured</font> . Plain text data is just that--plain text, with no styling.\n",
    "\n",
    "Write a function `copyfile(infile, outfile)` that, given two files names: `infile` and `outfile`, reads the contents of `infile`, prints the contents to the screen, and then writes them into `outfile`."
   ]
  },
  {
   "cell_type": "code",
   "execution_count": 1,
   "metadata": {},
   "outputs": [],
   "source": [
    "def copyfile(infile, outfile):\n",
    "    with open(infile,'r') as fh:\n",
    "        s=fh.read()\n",
    "    print(s)\n",
    "    with open(outfile,'w') as fh:\n",
    "        fh.write(s)"
   ]
  },
  {
   "cell_type": "markdown",
   "metadata": {
    "deletable": false,
    "editable": false,
    "nbgrader": {
     "cell_type": "markdown",
     "checksum": "f215af8fb259796aff1e989f1191ab39",
     "grade": false,
     "grade_id": "cell-696b9d5a694428c3",
     "locked": true,
     "schema_version": 3,
     "solution": false
    }
   },
   "source": [
    "The cell below should print out the contents of the file if you've read it correctly:"
   ]
  },
  {
   "cell_type": "code",
   "execution_count": 2,
   "metadata": {},
   "outputs": [
    {
     "name": "stdout",
     "output_type": "stream",
     "text": [
      "We're Knights of the Round Table.\n",
      "We dance whene'er we're able.\n",
      "We do routines and chorus scenes\n",
      "With footwork impeccable.\n",
      "We dine well here in Camelot.\n",
      "We eat ham and jam and spam a lot.\n",
      "We're Knights of the Round Table.\n",
      "Our shows are formidable,\n",
      "But many times we're given rhymes\n",
      "That are quite unsingable.\n",
      "We're opera mad in Camelot.\n",
      "We sing from the diaphragm a lot.\n",
      "\n",
      "In war we're tough and able,\n",
      "Quite indefatigable.\n",
      "Between our quests we sequin vests and impersonate Clark Gable.\n",
      "It's a busy life in Camelot.\n",
      "\n",
      "I have to push the pram a lot. \n"
     ]
    }
   ],
   "source": [
    "copyfile(\"practice1.txt\", \"practice1_out.txt\")"
   ]
  },
  {
   "cell_type": "markdown",
   "metadata": {
    "deletable": false,
    "editable": false,
    "nbgrader": {
     "cell_type": "markdown",
     "checksum": "6267d8b64cb4ba4219e43ca8e8af1bd6",
     "grade": false,
     "grade_id": "cell-78084856847bf312",
     "locked": true,
     "schema_version": 3,
     "solution": false
    }
   },
   "source": [
    "The cell below is a Jupyter magic command that tries to open `practice1_out.txt` and display it. If you wrote your file correctly, this should display the same as above:"
   ]
  },
  {
   "cell_type": "code",
   "execution_count": 4,
   "metadata": {},
   "outputs": [
    {
     "name": "stdout",
     "output_type": "stream",
     "text": [
      "We're Knights of the Round Table.\r\n",
      "We dance whene'er we're able.\r\n",
      "We do routines and chorus scenes\r\n",
      "With footwork impeccable.\r\n",
      "We dine well here in Camelot.\r\n",
      "We eat ham and jam and spam a lot.\r\n",
      "We're Knights of the Round Table.\r\n",
      "Our shows are formidable,\r\n",
      "But many times we're given rhymes\r\n",
      "That are quite unsingable.\r\n",
      "We're opera mad in Camelot.\r\n",
      "We sing from the diaphragm a lot.\r\n",
      "\r\n",
      "In war we're tough and able,\r\n",
      "Quite indefatigable.\r\n",
      "Between our quests we sequin vests and impersonate Clark Gable.\r\n",
      "It's a busy life in Camelot.\r\n",
      "\r\n",
      "I have to push the pram a lot. "
     ]
    }
   ],
   "source": [
    "%cat practice1_out.txt"
   ]
  },
  {
   "cell_type": "markdown",
   "metadata": {
    "deletable": false,
    "editable": false,
    "nbgrader": {
     "cell_type": "markdown",
     "checksum": "71537334d1ac68d7729e77e2a5d04005",
     "grade": false,
     "grade_id": "cell-917f75387b92a007",
     "locked": true,
     "schema_version": 3,
     "solution": false
    }
   },
   "source": [
    "#### Practice Question 2: Working with CSV files\n",
    "\n",
    "A comma-separated value (csv) file is a very common way to represent a spreadsheet in a plain text file. In a csv file, each value is separated by a comma, and each row is separated by a newline character. For instance, the following table:\n",
    "\n",
    "|name|age|salary|\n",
    "|-|-||-|\n",
    "|Odie|23|19000|\n",
    "|Garfield|25|22000|\n",
    "|John|22|21000|\n",
    "\n",
    "Is not meant to be a commentary on the economy at all. It is simply an example of a table that could be represented in a csv file like so:"
   ]
  },
  {
   "cell_type": "raw",
   "metadata": {},
   "source": [
    "name,age,salary\n",
    "Odie,23,19000\n",
    "Garfield,25,22000\n",
    "John,22,21000"
   ]
  },
  {
   "cell_type": "markdown",
   "metadata": {
    "deletable": false,
    "editable": false,
    "nbgrader": {
     "cell_type": "markdown",
     "checksum": "fa55b66a3ce18e2087914fb020512df1",
     "grade": false,
     "grade_id": "cell-836e6fdb8900ee2d",
     "locked": true,
     "schema_version": 3,
     "solution": false
    }
   },
   "source": [
    "Write a program `getrow(infile, n)` that reads a .csv file, `infile`, and prints out the column labels, and the `nth` row of `infile`. For instance, in the above example, calling `getcolumn(infile, 1)` would print out:\n",
    "```\n",
    "['name', 'age', 'salary']\n",
    "['Odie', '23', '19000']\n",
    "```\n",
    "\n",
    "You may wish to use Python's built in <a href=https://docs.python.org/3/library/csv.html>csv library</a> for this task."
   ]
  },
  {
   "cell_type": "code",
   "execution_count": 23,
   "metadata": {},
   "outputs": [],
   "source": [
    "import csv\n",
    "def getrow(infile, n):\n",
    "    with open(infile,'r') as fh:\n",
    "        s=csv.reader(fh)\n",
    "        i=0\n",
    "        for r in s:\n",
    "            if(i==0 or i==n):\n",
    "                print(r)\n",
    "            i+=1"
   ]
  },
  {
   "cell_type": "code",
   "execution_count": 25,
   "metadata": {},
   "outputs": [
    {
     "name": "stdout",
     "output_type": "stream",
     "text": [
      "['name', 'age', 'salary']\n",
      "['Odie', '23', '19000']\n"
     ]
    }
   ],
   "source": [
    "getrow('practice2.csv', 1)"
   ]
  },
  {
   "cell_type": "markdown",
   "metadata": {
    "deletable": false,
    "editable": false,
    "nbgrader": {
     "cell_type": "markdown",
     "checksum": "b6496b7628208e1a36dce5999f6d7e34",
     "grade": false,
     "grade_id": "cell-914c3e8c1fabffa3",
     "locked": true,
     "schema_version": 3,
     "solution": false
    }
   },
   "source": [
    "This should produce the output\n",
    "```\n",
    "['name', 'age', 'salary']\n",
    "['Odie', '23', '19000']\n",
    "```"
   ]
  },
  {
   "cell_type": "markdown",
   "metadata": {
    "deletable": false,
    "editable": false,
    "nbgrader": {
     "cell_type": "markdown",
     "checksum": "f543c8b72ec699775bf31da17c59a036",
     "grade": false,
     "grade_id": "cell-72e4c0930ebfa079",
     "locked": true,
     "schema_version": 3,
     "solution": false
    }
   },
   "source": [
    "#### Practice Question 3: Working with JSON\n",
    "\n",
    "JavaScript Object Notation (JSON) data is another common way of representing more structed data. In most cases, you can treat JSON data as a list of Python dictionaries. \n",
    "\n",
    "Often a JSON object will have many fields for each entry. Consider the example below, which organizes a few books on JavaScript:"
   ]
  },
  {
   "cell_type": "code",
   "execution_count": 26,
   "metadata": {},
   "outputs": [],
   "source": [
    "BOOKS = \\\n",
    "[\n",
    "    {\n",
    "        \"title\": \"Professional JavaScript\",\n",
    "        \"authors\": [\n",
    "            \"Nicholas C. Zakas\"\n",
    "        ],\n",
    "        \"edition\": 3,\n",
    "        \"year\": 2011\n",
    "    },\n",
    "    {\n",
    "        \"title\": \"Professional JavaScript\",\n",
    "        \"authors\": [\n",
    "            \"Nicholas C. Zakas\"\n",
    "        ],\n",
    "        \"edition\": 2,\n",
    "        \"year\": 2009\n",
    "    },\n",
    "    {\n",
    "        \"title\": \"Professional Ajax\",\n",
    "        \"authors\": [\n",
    "            \"Nicholas C. Zakas\",\n",
    "            \"Jeremy McPeak\",\n",
    "            \"Joe Fawcett\"\n",
    "        ],\n",
    "        \"edition\": 2,\n",
    "        \"year\": 2008\n",
    "    }\n",
    "]"
   ]
  },
  {
   "cell_type": "markdown",
   "metadata": {
    "deletable": false,
    "editable": false,
    "nbgrader": {
     "cell_type": "markdown",
     "checksum": "ff173e107e7858cf83f29f9631c428f8",
     "grade": false,
     "grade_id": "cell-99e2fd5e923cb464",
     "locked": true,
     "schema_version": 3,
     "solution": false
    }
   },
   "source": [
    "Getting the first author of a book in the list isn't too challenging:"
   ]
  },
  {
   "cell_type": "code",
   "execution_count": 27,
   "metadata": {},
   "outputs": [
    {
     "name": "stdout",
     "output_type": "stream",
     "text": [
      "Nicholas C. Zakas\n",
      "Nicholas C. Zakas\n",
      "Nicholas C. Zakas\n"
     ]
    }
   ],
   "source": [
    "for i in range(len(BOOKS)):\n",
    "    \n",
    "    print(BOOKS[i][\"authors\"][0])"
   ]
  },
  {
   "cell_type": "markdown",
   "metadata": {
    "deletable": false,
    "editable": false,
    "nbgrader": {
     "cell_type": "markdown",
     "checksum": "7829ddbd94fe52a18fdee1309ec2a1b7",
     "grade": false,
     "grade_id": "cell-b0a718340fef39ff",
     "locked": true,
     "schema_version": 3,
     "solution": false
    }
   },
   "source": [
    "#### Question 1: Favourite Songs [3 points]\n",
    "Write a function `remotejson(url, fields)` that reads in a JSON object from a remote url, and returns a list of every object from the given fields. Assume we are only interested in the top level fields--that is, you only need to index `OBJ[i][field]`, and no subfields that it might contain. However, if more than one field is given, append there data to the list in the order the fields are given so that it's ordered as such:\n",
    "\n",
    "`[OBJ[0][field0], OBJ[0][field1], OBJ[1][field0] ...]`\n",
    "\n",
    "Note that all objects are under the \"song\" key.\n",
    "\n",
    "Note: Use the built in `urllib.request` library to read the files from the remote server, and `json` in order to parse it."
   ]
  },
  {
   "cell_type": "code",
   "execution_count": 69,
   "metadata": {
    "deletable": false,
    "nbgrader": {
     "cell_type": "code",
     "checksum": "18fcf7c5b36cd1533a2c55202011c6c3",
     "grade": false,
     "grade_id": "cell-ae7872f4a61c48c3",
     "locked": false,
     "schema_version": 3,
     "solution": true
    }
   },
   "outputs": [],
   "source": [
    "import urllib.request\n",
    "import json\n",
    "def remotejson(url, fields):\n",
    "    response=urllib.request.urlopen(url)\n",
    "    s=response.read()\n",
    "    x=json.loads(s)\n",
    "    l=[]\n",
    "    if(type(fields)==list):\n",
    "        for i in x[\"songs\"]:\n",
    "            for j in fields:\n",
    "                l+=[i[j]]\n",
    "    else:\n",
    "        for i in x[\"songs\"]:\n",
    "            l+=[i[fields]]\n",
    "    return(l)"
   ]
  },
  {
   "cell_type": "markdown",
   "metadata": {
    "deletable": false,
    "editable": false,
    "nbgrader": {
     "cell_type": "markdown",
     "checksum": "b8a233e04f5c9ddcd33f5c64ca2309f8",
     "grade": false,
     "grade_id": "cell-13676bb7da80b741",
     "locked": true,
     "schema_version": 3,
     "solution": false
    }
   },
   "source": [
    "The cell below, when run correctly, should return a list of some of Mr. Moore's favourite songs, and where to listen to them."
   ]
  },
  {
   "cell_type": "code",
   "execution_count": 70,
   "metadata": {
    "deletable": false,
    "editable": false,
    "nbgrader": {
     "cell_type": "code",
     "checksum": "379027a90f836b6788babdc5a0629818",
     "grade": false,
     "grade_id": "cell-6bb81fc3f8fc1450",
     "locked": true,
     "schema_version": 3,
     "solution": false
    }
   },
   "outputs": [
    {
     "data": {
      "text/plain": [
       "['1904', '#40', '40oz to Freedom', '#41', 'American Girl']"
      ]
     },
     "execution_count": 70,
     "metadata": {},
     "output_type": "execute_result"
    }
   ],
   "source": [
    "remotejson(\"http://davidpots.com/jakeworry/017%20JSON%20Grouping,%20part%203/data.json\", ['title'])[:5] #, \"Artist\", \"URL\"])"
   ]
  },
  {
   "cell_type": "code",
   "execution_count": 72,
   "metadata": {
    "deletable": false,
    "editable": false,
    "nbgrader": {
     "cell_type": "code",
     "checksum": "ecf56a5dfc1e6b0efcccb0cf35a7fbfe",
     "grade": false,
     "grade_id": "cell-47ba28087d0b35b2",
     "locked": true,
     "schema_version": 3,
     "solution": false
    }
   },
   "outputs": [
    {
     "data": {
      "text/plain": [
       "['http://fireflygrove.com/songnotes/images/artists/TheTallestManOnEarth.jpg',\n",
       " 'http://fireflygrove.com/songnotes/images/artists/DaveMatthews.jpg',\n",
       " 'http://fireflygrove.com/songnotes/images/artists/Sublime.png',\n",
       " 'http://fireflygrove.com/songnotes/images/artists/DaveMatthews.jpg',\n",
       " 'http://fireflygrove.com/songnotes/images/artists/TomPetty.png',\n",
       " 'http://fireflygrove.com/songnotes/images/artists/ViolentFemmes.jpg',\n",
       " 'http://fireflygrove.com/songnotes/images/artists/DonMcLean.jpg',\n",
       " 'http://fireflygrove.com/songnotes/images/artists/VanMorrison.jpg',\n",
       " 'http://fireflygrove.com/songnotes/images/artists/JimmyBuffett.png',\n",
       " 'http://fireflygrove.com/songnotes/images/artists/Sublime.png',\n",
       " 'http://fireflygrove.com/songnotes/images/artists/JackJohnson.png',\n",
       " 'http://fireflygrove.com/songnotes/images/artists/JimmyBuffett.png',\n",
       " 'http://fireflygrove.com/songnotes/images/artists/TheLumineers.png',\n",
       " 'http://fireflygrove.com/songnotes/images/artists/VanMorrison.jpg',\n",
       " 'http://fireflygrove.com/songnotes/images/artists/ConorOberst.jpg',\n",
       " 'http://fireflygrove.com/songnotes/images/artists/Fun.png',\n",
       " 'http://fireflygrove.com/songnotes/images/artists/Donovan.jpg',\n",
       " 'http://fireflygrove.com/songnotes/images/artists/HarryChapin.jpg',\n",
       " 'http://fireflygrove.com/songnotes/images/artists/JimmyBuffett.png',\n",
       " 'http://fireflygrove.com/songnotes/images/artists/TheLumineers.png',\n",
       " 'http://fireflygrove.com/songnotes/images/artists/Radiohead.jpg',\n",
       " 'http://fireflygrove.com/songnotes/images/artists/JohnnyCash.png',\n",
       " 'http://fireflygrove.com/songnotes/images/artists/MasonJennings.jpg',\n",
       " 'http://fireflygrove.com/songnotes/images/artists/TheLumineers.png',\n",
       " 'http://fireflygrove.com/songnotes/images/artists/JimmyBuffett.png',\n",
       " 'http://fireflygrove.com/songnotes/images/artists/ReginaSpektor.jpg',\n",
       " 'http://fireflygrove.com/songnotes/images/artists/Oasis.png',\n",
       " 'http://fireflygrove.com/songnotes/images/artists/Journey.jpg',\n",
       " 'http://fireflygrove.com/songnotes/images/artists/ElvisPerkins.jpg',\n",
       " 'http://fireflygrove.com/songnotes/images/artists/JackJohnson.png',\n",
       " 'http://fireflygrove.com/songnotes/images/artists/JackJohnson.png',\n",
       " 'http://fireflygrove.com/songnotes/images/artists/FirstAidKit.png',\n",
       " 'http://fireflygrove.com/songnotes/images/artists/JackJohnson.png',\n",
       " 'http://fireflygrove.com/songnotes/images/artists/CatStevens.jpg',\n",
       " 'http://fireflygrove.com/songnotes/images/artists/JackJohnson.png',\n",
       " 'http://fireflygrove.com/songnotes/images/artists/TheLumineers.png',\n",
       " 'http://fireflygrove.com/songnotes/images/artists/TheLumineers.png',\n",
       " 'http://fireflygrove.com/songnotes/images/artists/JohnnyCash.png',\n",
       " 'http://fireflygrove.com/songnotes/images/artists/TomPetty.png',\n",
       " 'http://fireflygrove.com/songnotes/images/artists/BlitzenTrapper.jpg',\n",
       " 'http://fireflygrove.com/songnotes/images/artists/ConorOberst.jpg',\n",
       " 'http://fireflygrove.com/songnotes/images/artists/EmmylouHarris.jpg',\n",
       " 'http://fireflygrove.com/songnotes/images/artists/ArcadeFire.jpg',\n",
       " 'http://fireflygrove.com/songnotes/images/artists/ArcadeFire.jpg',\n",
       " 'http://fireflygrove.com/songnotes/images/artists/NeilYoung.png',\n",
       " 'http://fireflygrove.com/songnotes/images/artists/NeilYoung.png',\n",
       " 'http://fireflygrove.com/songnotes/images/artists/Whitesnake.jpg',\n",
       " 'http://fireflygrove.com/songnotes/images/artists/GinBlossoms.jpg',\n",
       " 'http://fireflygrove.com/songnotes/images/artists/Train.jpg',\n",
       " 'http://fireflygrove.com/songnotes/images/artists/Radiohead.jpg',\n",
       " 'http://fireflygrove.com/songnotes/images/artists/TheLumineers.png',\n",
       " 'http://fireflygrove.com/songnotes/images/artists/FatherJohnMisty.jpg',\n",
       " 'http://fireflygrove.com/songnotes/images/artists/EdwardSharpeAndTheMagneticZeroes.png',\n",
       " 'http://fireflygrove.com/songnotes/images/artists/JimmyBuffett.png',\n",
       " 'http://fireflygrove.com/songnotes/images/artists/MasonJennings.jpg',\n",
       " 'http://fireflygrove.com/songnotes/images/artists/TheEagles.jpg',\n",
       " 'http://fireflygrove.com/songnotes/images/artists/TheWhiteStripes.jpg',\n",
       " 'http://fireflygrove.com/songnotes/images/artists/OAR.jpg',\n",
       " 'http://fireflygrove.com/songnotes/images/artists/TaylorSwift.png',\n",
       " 'http://fireflygrove.com/songnotes/images/artists/FatherJohnMisty.jpg',\n",
       " 'http://fireflygrove.com/songnotes/images/artists/Weezer.jpg',\n",
       " 'http://fireflygrove.com/songnotes/images/artists/JasonMraz.png',\n",
       " 'http://fireflygrove.com/songnotes/images/artists/JohnMellencamp.png',\n",
       " 'http://fireflygrove.com/songnotes/images/artists/Radiohead.jpg',\n",
       " 'http://fireflygrove.com/songnotes/images/artists/TheTallestManOnEarth.jpg',\n",
       " 'http://fireflygrove.com/songnotes/images/artists/FirstAidKit.png',\n",
       " 'http://fireflygrove.com/songnotes/images/artists/BillWithers.png',\n",
       " 'http://fireflygrove.com/songnotes/images/artists/OfMonstersAndMen.png',\n",
       " 'http://fireflygrove.com/songnotes/images/artists/AvettBrothers.jpg',\n",
       " 'http://fireflygrove.com/songnotes/images/artists/Kinks.jpg',\n",
       " 'http://fireflygrove.com/songnotes/images/artists/RickyNelson.jpg',\n",
       " 'http://fireflygrove.com/songnotes/images/artists/JimmyBuffett.png',\n",
       " 'http://fireflygrove.com/songnotes/images/artists/TaylorSwift.png',\n",
       " 'http://fireflygrove.com/songnotes/images/artists/JimmyBuffett.png',\n",
       " 'http://fireflygrove.com/songnotes/images/artists/PaulSimon.jpg',\n",
       " 'http://fireflygrove.com/songnotes/images/artists/JimmyBuffett.png',\n",
       " 'http://fireflygrove.com/songnotes/images/artists/CatStevens.jpg',\n",
       " 'http://fireflygrove.com/songnotes/images/artists/JackJohnson.png',\n",
       " 'http://fireflygrove.com/songnotes/images/artists/EmmylouHarris.jpg',\n",
       " 'http://fireflygrove.com/songnotes/images/artists/Sublime.png',\n",
       " 'http://fireflygrove.com/songnotes/images/artists/Radiohead.jpg',\n",
       " 'http://fireflygrove.com/songnotes/images/artists/MasonJennings.jpg',\n",
       " 'http://fireflygrove.com/songnotes/images/artists/Metallica.jpg',\n",
       " 'http://fireflygrove.com/songnotes/images/artists/FatherJohnMisty.jpg',\n",
       " 'http://fireflygrove.com/songnotes/images/artists/NeilYoung.png',\n",
       " 'http://fireflygrove.com/songnotes/images/artists/MileyCyrus.jpg',\n",
       " 'http://fireflygrove.com/songnotes/images/artists/GunsNRoses.png',\n",
       " 'http://fireflygrove.com/songnotes/images/artists/BobMarley.jpg',\n",
       " 'http://fireflygrove.com/songnotes/images/artists/Sublime.png',\n",
       " 'http://fireflygrove.com/songnotes/images/artists/EltonJohn.jpg',\n",
       " 'http://fireflygrove.com/songnotes/images/artists/JackJohnson.png',\n",
       " 'http://fireflygrove.com/songnotes/images/artists/ElvisPerkins.jpg',\n",
       " 'http://fireflygrove.com/songnotes/images/artists/SheAndHim.jpg',\n",
       " 'http://fireflygrove.com/songnotes/images/artists/BobDylan.jpg',\n",
       " 'http://fireflygrove.com/songnotes/images/artists/Fun.png',\n",
       " 'http://fireflygrove.com/songnotes/images/artists/Keane.jpg',\n",
       " 'http://fireflygrove.com/songnotes/images/artists/DavidBowie.jpg',\n",
       " 'http://fireflygrove.com/songnotes/images/artists/DaveMatthews.jpg',\n",
       " 'http://fireflygrove.com/songnotes/images/artists/TheLumineers.png',\n",
       " 'http://fireflygrove.com/songnotes/images/artists/StealersWheel.png',\n",
       " 'http://fireflygrove.com/songnotes/images/artists/TheLumineers.png',\n",
       " 'http://fireflygrove.com/songnotes/images/artists/NeilYoung.png',\n",
       " 'http://fireflygrove.com/songnotes/images/artists/BryanAdams.jpg',\n",
       " 'http://fireflygrove.com/songnotes/images/artists/LynyrdSkynyrd.jpg',\n",
       " 'http://fireflygrove.com/songnotes/images/artists/BobDylan.jpg',\n",
       " 'http://fireflygrove.com/songnotes/images/artists/BenHarper.jpg',\n",
       " 'http://fireflygrove.com/songnotes/images/artists/Dispatch.jpg',\n",
       " 'http://fireflygrove.com/songnotes/images/artists/FirstAidKit.png',\n",
       " 'http://fireflygrove.com/songnotes/images/artists/BobDylan.jpg',\n",
       " 'http://fireflygrove.com/songnotes/images/artists/Chvrches.jpg',\n",
       " 'http://fireflygrove.com/songnotes/images/artists/NeilYoung.png',\n",
       " 'http://fireflygrove.com/songnotes/images/artists/JimmyBuffett.png',\n",
       " 'http://fireflygrove.com/songnotes/images/artists/TheBand.jpg',\n",
       " 'http://fireflygrove.com/songnotes/images/artists/JimmyBuffett.png',\n",
       " 'http://fireflygrove.com/songnotes/images/artists/EltonJohn.jpg',\n",
       " 'http://fireflygrove.com/songnotes/images/artists/JimmyBuffett.png',\n",
       " 'http://fireflygrove.com/songnotes/images/artists/TheChurch.jpg',\n",
       " 'http://fireflygrove.com/songnotes/images/artists/Coldplay.jpg',\n",
       " 'http://fireflygrove.com/songnotes/images/artists/JohnLennon.jpg',\n",
       " 'http://fireflygrove.com/songnotes/images/artists/BillyBraggWilco.jpg',\n",
       " 'http://fireflygrove.com/songnotes/images/artists/TaylorSwift.png',\n",
       " 'http://fireflygrove.com/songnotes/images/artists/TheWhiteStripes.jpg',\n",
       " 'http://fireflygrove.com/songnotes/images/artists/Sublime.png',\n",
       " 'http://fireflygrove.com/songnotes/images/artists/TheTallestManOnEarth.jpg',\n",
       " 'http://fireflygrove.com/songnotes/images/artists/TheBeatles.jpg',\n",
       " 'http://fireflygrove.com/songnotes/images/artists/VampireWeekend.jpg',\n",
       " 'http://fireflygrove.com/songnotes/images/artists/TaylorSwift.png',\n",
       " 'http://fireflygrove.com/songnotes/images/artists/DeVotchKa.jpg']"
      ]
     },
     "execution_count": 72,
     "metadata": {},
     "output_type": "execute_result"
    }
   ],
   "source": [
    "remotejson(\"http://davidpots.com/jakeworry/017%20JSON%20Grouping,%20part%203/data.json\", \"img_url\")"
   ]
  },
  {
   "cell_type": "markdown",
   "metadata": {
    "deletable": false,
    "editable": false,
    "nbgrader": {
     "cell_type": "markdown",
     "checksum": "13bfc58f284bcbed83955f6b71ae9267",
     "grade": false,
     "grade_id": "cell-3ef107437bc69b81",
     "locked": true,
     "schema_version": 3,
     "solution": false
    }
   },
   "source": [
    "*[Comment from Mr. Moore: Eric only guessed 2 of my favourite songs.]*"
   ]
  },
  {
   "cell_type": "code",
   "execution_count": 73,
   "metadata": {
    "deletable": false,
    "editable": false,
    "nbgrader": {
     "cell_type": "code",
     "checksum": "7c5a7b709db51ab67005356f310642c7",
     "grade": true,
     "grade_id": "cell-6e11c7757c011a14",
     "locked": true,
     "points": 1,
     "schema_version": 3,
     "solution": false
    }
   },
   "outputs": [],
   "source": [
    "# Hidden Test for question 1"
   ]
  },
  {
   "cell_type": "code",
   "execution_count": 74,
   "metadata": {
    "deletable": false,
    "editable": false,
    "nbgrader": {
     "cell_type": "code",
     "checksum": "8a8d0bbb1362b1bbc2d8911481ba0d2f",
     "grade": true,
     "grade_id": "cell-e2e2f9c09b1fe193",
     "locked": true,
     "points": 2,
     "schema_version": 3,
     "solution": false
    }
   },
   "outputs": [],
   "source": [
    "# Hidden Test for question 1"
   ]
  },
  {
   "cell_type": "markdown",
   "metadata": {
    "deletable": false,
    "editable": false,
    "nbgrader": {
     "cell_type": "markdown",
     "checksum": "016412ef868b13818bef98df87f04af2",
     "grade": false,
     "grade_id": "cell-a0153acc02a1ad97",
     "locked": true,
     "schema_version": 3,
     "solution": false
    }
   },
   "source": [
    "#### Question 2: Stocks (Again) [6 points]\n",
    "\n",
    "Recall the `stocks` question from lab 4:\n",
    "\n",
    "> Let's assume I'm playing the stock market - buy low, sell high. I'm a day trader, so I want to get in and out of a stock before the day is done, and I want to time my trades so that I make the biggest gain possible. And obviously I can't buy in the future and sell in the past.\n",
    ">\n",
    "> Write a function stocks(s) that emits the two trades in chronological order - what you think I should buy at and sell at - in order to maximize my profit.\n",
    "\n",
    "Repeat this question, but load your data from a .csv file on a remote server. The .csv file will be formatted like so:\n",
    "```\n",
    "Date,Open,High,Low,Close,Adj Close,Volume\n",
    "2013-12-24,16295.700195,16360.599609,16295.700195,16357.549805,16357.549805,33640000\n",
    "2013-12-26,16370.969727,16483.000000,16370.969727,16479.880859,16479.880859,50160000\n",
    "2013-12-27,16486.369141,16529.009766,16461.230469,16478.410156,16478.410156,47230000\n",
    "2013-12-30,16484.509766,16504.349609,16476.869141,16504.289063,16504.289063,54220000\n",
    "```\n",
    "\n",
    "Assume that you buy at the value in the \"Low\" column, and sell at the value in \"High\". You may not buy and sell on the same day. Your functions, `stocks(s)` should take in a string of the filename of a CSV file containing the data. You may assume the file is in chronological order."
   ]
  },
  {
   "cell_type": "code",
   "execution_count": 142,
   "metadata": {
    "deletable": false,
    "nbgrader": {
     "cell_type": "code",
     "checksum": "cfc8c979ec519ecf1b1cae165ddf715a",
     "grade": false,
     "grade_id": "cell-272ccd76b9909416",
     "locked": false,
     "schema_version": 3,
     "solution": true
    }
   },
   "outputs": [],
   "source": [
    "import csv\n",
    "def stocks(s):\n",
    "    with open(s,'r') as fh:\n",
    "        s=csv.DictReader(fh)\n",
    "        l=[]\n",
    "        for r in s:\n",
    "            l+=[r]\n",
    "    buy=0\n",
    "    sell=0\n",
    "    for i in range(len(l)):\n",
    "        for j in range(len(l)-i-1):\n",
    "            if(float(l[j+i+1][\"High\"])-float(l[i][\"Low\"])>sell-buy):\n",
    "                sell=float(l[j+i+1][\"High\"])\n",
    "                buy=float(l[i][\"Low\"])\n",
    "    return [buy,sell]"
   ]
  },
  {
   "cell_type": "markdown",
   "metadata": {
    "deletable": false,
    "editable": false,
    "nbgrader": {
     "cell_type": "markdown",
     "checksum": "7077ce4f95cd1b9a6e508b75cbb86e7a",
     "grade": false,
     "grade_id": "cell-6b9674d759fa93f9",
     "locked": true,
     "schema_version": 3,
     "solution": false
    }
   },
   "source": [
    "This cell should print the values of the trades. They should be [15340.69043, 26616.710938]"
   ]
  },
  {
   "cell_type": "code",
   "execution_count": 143,
   "metadata": {},
   "outputs": [
    {
     "name": "stdout",
     "output_type": "stream",
     "text": [
      "[27325.13086, 28608.64063]\n"
     ]
    }
   ],
   "source": [
    "trades = stocks(\"DJI1.csv\")\n",
    "print(trades)"
   ]
  },
  {
   "cell_type": "markdown",
   "metadata": {
    "deletable": false,
    "editable": false,
    "nbgrader": {
     "cell_type": "markdown",
     "checksum": "8042dcd3c2caaed9a597fcbc73f1bcd0",
     "grade": false,
     "grade_id": "cell-824db2eebd61ab3b",
     "locked": true,
     "schema_version": 3,
     "solution": false
    }
   },
   "source": [
    "The cell below is how the autograder will be evaluating your answer. It only needs to be correct to two decimal places. Make sure you return a list of floating point numbers."
   ]
  },
  {
   "cell_type": "code",
   "execution_count": 144,
   "metadata": {},
   "outputs": [],
   "source": [
    "assert round(trades[0], 2) == 27325.13\n",
    "assert round(trades[1], 2) == 28608.64"
   ]
  },
  {
   "cell_type": "code",
   "execution_count": 145,
   "metadata": {
    "deletable": false,
    "editable": false,
    "nbgrader": {
     "cell_type": "code",
     "checksum": "28bdce463ef2bff11fa23a2c129053d4",
     "grade": true,
     "grade_id": "cell-ad372f0ca2ab122d",
     "locked": true,
     "points": 3,
     "schema_version": 3,
     "solution": false
    }
   },
   "outputs": [],
   "source": [
    "# Hidden test for Q2"
   ]
  },
  {
   "cell_type": "code",
   "execution_count": 146,
   "metadata": {
    "deletable": false,
    "editable": false,
    "nbgrader": {
     "cell_type": "code",
     "checksum": "c5f788e1222176abdfe7e961503f9365",
     "grade": true,
     "grade_id": "cell-b58cb12369ce57ba",
     "locked": true,
     "points": 3,
     "schema_version": 3,
     "solution": false
    }
   },
   "outputs": [],
   "source": [
    "# Hidden test for Q2"
   ]
  },
  {
   "cell_type": "markdown",
   "metadata": {
    "deletable": false,
    "editable": false,
    "nbgrader": {
     "cell_type": "markdown",
     "checksum": "d855696cf8478db91f642672d020c68c",
     "grade": false,
     "grade_id": "cell-933b29f5ca264b95",
     "locked": true,
     "schema_version": 3,
     "solution": false
    }
   },
   "source": [
    "#### Question 3a: I know words [3 points]\n",
    "\n",
    "During his presidential campaing in 2016, Donald Trump said “I know words. I have the best words.”\n",
    "\n",
    "Let's explore this idea in an objective, scientific manner.\n",
    "\n",
    "Write a function `tweets_per_day(jsonurl)` that, given the website address (URL) of a JSON file, counts the number of tweets that are sent on every day of the week. Return your result as a dictionary, mapping the day of the month to the total number of tweets sent on that day.\n",
    "\n",
    "For this question, you may want to open the file `https://files.jazzmoon.ca/sample_tweets.json` and manually inspect the fields to help parse the data.\n",
    "    "
   ]
  },
  {
   "cell_type": "code",
   "execution_count": 265,
   "metadata": {
    "deletable": false,
    "nbgrader": {
     "cell_type": "code",
     "checksum": "68b3ddd480e41b2e8e92115f0ae5aa5d",
     "grade": false,
     "grade_id": "cell-a952ea8b4c173603",
     "locked": false,
     "schema_version": 3,
     "solution": true
    }
   },
   "outputs": [],
   "source": [
    "import json\n",
    "import urllib.request\n",
    "def tweets_per_day(jsonurl):\n",
    "    response=urllib.request.urlopen(jsonurl)\n",
    "    s=response.read()\n",
    "    x=json.loads(s)\n",
    "    d={1:0,2:0,3:0,4:0,5:0,6:0,7:0,8:0,9:0,10:0,11:0,12:0,13:0,14:0,15:0,16:0,17:0,18:0,19:0,20:0,21:0,22:0,23:0,24:0,25:0,26:0,27:0,28:0,29:0,30:0,31:0}\n",
    "    for t in x:\n",
    "        d[(int(t[\"Tweet Posted Time (UTC)\"][0:2]))]+=1\n",
    "    return d"
   ]
  },
  {
   "cell_type": "code",
   "execution_count": 266,
   "metadata": {
    "deletable": false,
    "editable": false,
    "nbgrader": {
     "cell_type": "code",
     "checksum": "64606320f987edf49a128fc2e4f3f0f4",
     "grade": false,
     "grade_id": "cell-1f75196ff2d6fc3e",
     "locked": true,
     "schema_version": 3,
     "solution": false
    }
   },
   "outputs": [
    {
     "data": {
      "text/plain": [
       "True"
      ]
     },
     "execution_count": 266,
     "metadata": {},
     "output_type": "execute_result"
    }
   ],
   "source": [
    "tweets_per_day('https://files.jazzmoon.ca/sample_tweets.json')[29] == 12"
   ]
  },
  {
   "cell_type": "code",
   "execution_count": 267,
   "metadata": {
    "deletable": false,
    "editable": false,
    "nbgrader": {
     "cell_type": "code",
     "checksum": "f095c1f2810b663648354116e9fb0522",
     "grade": true,
     "grade_id": "cell-9e852f206f21e307",
     "locked": true,
     "points": 1,
     "schema_version": 3,
     "solution": false
    }
   },
   "outputs": [],
   "source": [
    "# Hidden test for Q3a"
   ]
  },
  {
   "cell_type": "code",
   "execution_count": 268,
   "metadata": {
    "deletable": false,
    "editable": false,
    "nbgrader": {
     "cell_type": "code",
     "checksum": "2e018df1b6a68c0ea75f660dac2c7664",
     "grade": true,
     "grade_id": "cell-af2bb0f99332df06",
     "locked": true,
     "points": 1,
     "schema_version": 3,
     "solution": false
    }
   },
   "outputs": [],
   "source": [
    "# Hidden test for Q3a"
   ]
  },
  {
   "cell_type": "code",
   "execution_count": 269,
   "metadata": {
    "deletable": false,
    "editable": false,
    "nbgrader": {
     "cell_type": "code",
     "checksum": "55ab0e88cd501bf9781865fa963cf8e4",
     "grade": true,
     "grade_id": "cell-f9ae7ae1dfb9b294",
     "locked": true,
     "points": 1,
     "schema_version": 3,
     "solution": false
    }
   },
   "outputs": [],
   "source": [
    "# Hidden test for Q3a"
   ]
  },
  {
   "cell_type": "markdown",
   "metadata": {
    "deletable": false,
    "editable": false,
    "nbgrader": {
     "cell_type": "markdown",
     "checksum": "51c125d3b92a1cc6e1b7c5e95419430a",
     "grade": false,
     "grade_id": "cell-c31a5ff5cea7291c",
     "locked": true,
     "schema_version": 3,
     "solution": false
    }
   },
   "source": [
    "#### Question 3b: The Best Words [4 points]\n",
    "\n",
    "Write a function `count_occurences(jsonurl, word)` that counts the number of times that `word` occurs across all of the given tweets. This should be case insensitive, but for simplicity, you only need to match whole words. \n",
    "\n",
    "Make sure you match whole words only, and not substrings. For example, if `word = \"dont\"`, then \"dont\", \"DONT\", and \"dOnT\" would all count, but \"perioDONTal\" should not. Remove all punctuation in the text of the tweet (if there is any). \"don't\" should be correctly counted for `word=\"dont\"`."
   ]
  },
  {
   "cell_type": "code",
   "execution_count": 168,
   "metadata": {},
   "outputs": [
    {
     "name": "stdout",
     "output_type": "stream",
     "text": [
      "Remove all of these symbols from the tweets:  !\"#$%&'()*+,-./:;<=>?@[\\]^_`{|}~\n"
     ]
    }
   ],
   "source": [
    "from string import punctuation\n",
    "print(\"Remove all of these symbols from the tweets: \", punctuation)"
   ]
  },
  {
   "cell_type": "code",
   "execution_count": 272,
   "metadata": {
    "deletable": false,
    "nbgrader": {
     "cell_type": "code",
     "checksum": "56e333ec608f7ef2a4578366e7051d8a",
     "grade": false,
     "grade_id": "cell-e9b4c034335292a9",
     "locked": false,
     "schema_version": 3,
     "solution": true
    }
   },
   "outputs": [],
   "source": [
    "import json\n",
    "import urllib.request\n",
    "from string import punctuation\n",
    "def count_occurences(jsonurl,word):\n",
    "    response=urllib.request.urlopen(jsonurl)\n",
    "    s=response.read()\n",
    "    x=json.loads(s)\n",
    "    word=word.lower()\n",
    "    l=[]\n",
    "    for t in x:\n",
    "        l+=''.join(filter((set('abcdefghijklmnopqrstuvwxyz ')).__contains__,t[\"Tweet Content\"].lower())).split(' ')\n",
    "    i=0\n",
    "    for w in l:\n",
    "        if(w==word):\n",
    "            i+=1\n",
    "    return i"
   ]
  },
  {
   "cell_type": "code",
   "execution_count": 273,
   "metadata": {},
   "outputs": [
    {
     "data": {
      "text/plain": [
       "True"
      ]
     },
     "execution_count": 273,
     "metadata": {},
     "output_type": "execute_result"
    }
   ],
   "source": [
    "count_occurences('https://files.jazzmoon.ca/sample_tweets.json', 'health') == 55"
   ]
  },
  {
   "cell_type": "code",
   "execution_count": 274,
   "metadata": {},
   "outputs": [
    {
     "data": {
      "text/plain": [
       "True"
      ]
     },
     "execution_count": 274,
     "metadata": {},
     "output_type": "execute_result"
    }
   ],
   "source": [
    "count_occurences('https://files.jazzmoon.ca/sample_tweets.json', 'great') == 13"
   ]
  },
  {
   "cell_type": "code",
   "execution_count": 275,
   "metadata": {},
   "outputs": [
    {
     "data": {
      "text/plain": [
       "True"
      ]
     },
     "execution_count": 275,
     "metadata": {},
     "output_type": "execute_result"
    }
   ],
   "source": [
    "count_occurences('https://files.jazzmoon.ca/sample_tweets.json', 'more') == 79"
   ]
  },
  {
   "cell_type": "code",
   "execution_count": 276,
   "metadata": {},
   "outputs": [
    {
     "data": {
      "text/plain": [
       "True"
      ]
     },
     "execution_count": 276,
     "metadata": {},
     "output_type": "execute_result"
    }
   ],
   "source": [
    "count_occurences('https://files.jazzmoon.ca/sample_tweets.json', 'I') == 8"
   ]
  },
  {
   "cell_type": "code",
   "execution_count": 277,
   "metadata": {
    "deletable": false,
    "editable": false,
    "nbgrader": {
     "cell_type": "code",
     "checksum": "2686c160e4f6d31f74be5504f2895938",
     "grade": true,
     "grade_id": "cell-6aa804bc80448063",
     "locked": true,
     "points": 1,
     "schema_version": 3,
     "solution": false
    }
   },
   "outputs": [],
   "source": [
    "# Hidden test for Q3b"
   ]
  },
  {
   "cell_type": "code",
   "execution_count": 278,
   "metadata": {
    "deletable": false,
    "editable": false,
    "nbgrader": {
     "cell_type": "code",
     "checksum": "a7bd22a02077e68528e20a18702882d1",
     "grade": true,
     "grade_id": "cell-a35dfcaf05cdda6f",
     "locked": true,
     "points": 1,
     "schema_version": 3,
     "solution": false
    }
   },
   "outputs": [],
   "source": [
    "# Hidden test for Q3b"
   ]
  },
  {
   "cell_type": "code",
   "execution_count": 279,
   "metadata": {
    "deletable": false,
    "editable": false,
    "nbgrader": {
     "cell_type": "code",
     "checksum": "c9301a5118ed11375f7b78f3dd1016d5",
     "grade": true,
     "grade_id": "cell-36d596ab96c5d78d",
     "locked": true,
     "points": 1,
     "schema_version": 3,
     "solution": false
    }
   },
   "outputs": [],
   "source": [
    "# Hidden test for Q3b"
   ]
  },
  {
   "cell_type": "code",
   "execution_count": 280,
   "metadata": {
    "deletable": false,
    "editable": false,
    "nbgrader": {
     "cell_type": "code",
     "checksum": "f56a065ed02bc3e1091fd3f9b6bb235c",
     "grade": true,
     "grade_id": "cell-62467bb65233149b",
     "locked": true,
     "points": 1,
     "schema_version": 3,
     "solution": false
    }
   },
   "outputs": [],
   "source": [
    "# Hidden test for Q3b"
   ]
  },
  {
   "cell_type": "markdown",
   "metadata": {
    "deletable": false,
    "editable": false,
    "nbgrader": {
     "cell_type": "markdown",
     "checksum": "a54bd7354a227e90a0e594a52eb93e65",
     "grade": false,
     "grade_id": "cell-0e91216c7cf76ece",
     "locked": true,
     "schema_version": 3,
     "solution": false
    }
   },
   "source": [
    "#### BONUS Question 3c: The Most Words. The Best Words. [3 points]\n",
    "\n",
    "Write a function `words_per_day(jsonurl, word)` that counts the total number of times that `word` is tweeted versus the day of the month."
   ]
  },
  {
   "cell_type": "code",
   "execution_count": 295,
   "metadata": {
    "deletable": false,
    "nbgrader": {
     "cell_type": "code",
     "checksum": "3e8f422648820b48bd7f3d782e4976fa",
     "grade": false,
     "grade_id": "cell-495893b89823d6bc",
     "locked": false,
     "schema_version": 3,
     "solution": true
    }
   },
   "outputs": [],
   "source": [
    "import json\n",
    "import urllib.request\n",
    "from string import punctuation\n",
    "def words_per_day(jsonurl,word):\n",
    "    response=urllib.request.urlopen(jsonurl)\n",
    "    s=response.read()\n",
    "    x=json.loads(s)\n",
    "    word=word.lower()\n",
    "    l=[]\n",
    "    d={1:0,2:0,3:0,4:0,5:0,6:0,7:0,8:0,9:0,10:0,11:0,12:0,13:0,14:0,15:0,16:0,17:0,18:0,19:0,20:0,21:0,22:0,23:0,24:0,25:0,26:0,27:0,28:0,29:0,30:0,31:0}\n",
    "    for t in x:\n",
    "        if(word in ''.join(filter((set('abcdefghijklmnopqrstuvwxyz ')).__contains__,t[\"Tweet Content\"].lower())).split(' ')):\n",
    "            d[(int(t[\"Tweet Posted Time (UTC)\"][0:2]))]+=1\n",
    "    return d"
   ]
  },
  {
   "cell_type": "code",
   "execution_count": 296,
   "metadata": {},
   "outputs": [
    {
     "data": {
      "text/plain": [
       "True"
      ]
     },
     "execution_count": 296,
     "metadata": {},
     "output_type": "execute_result"
    }
   ],
   "source": [
    "words_per_day('https://files.jazzmoon.ca/sample_tweets.json', 'gold') == {30: 0,\n",
    " 29: 0,\n",
    " 28: 0,\n",
    " 27: 3,\n",
    " 26: 0,\n",
    " 24: 0,\n",
    " 23: 0,\n",
    " 22: 0,\n",
    " 20: 0,\n",
    " 19: 0,\n",
    " 17: 0,\n",
    " 16: 0,\n",
    " 15: 0,\n",
    " 14: 0,\n",
    " 13: 0,\n",
    " 10: 0,\n",
    " 9: 0,\n",
    " 8: 0,\n",
    " 7: 0,\n",
    " 6: 0,\n",
    " 4: 0,\n",
    " 3: 0,\n",
    " 2: 0,\n",
    " 1: 0,\n",
    " 31: 0,\n",
    " 25: 0,\n",
    " 21: 0,\n",
    " 18: 0,\n",
    " 12: 0,\n",
    " 11: 0,\n",
    " 5: 0}"
   ]
  },
  {
   "cell_type": "code",
   "execution_count": 297,
   "metadata": {},
   "outputs": [
    {
     "data": {
      "text/plain": [
       "{1: 2,\n",
       " 2: 0,\n",
       " 3: 5,\n",
       " 4: 1,\n",
       " 5: 0,\n",
       " 6: 10,\n",
       " 7: 1,\n",
       " 8: 1,\n",
       " 9: 0,\n",
       " 10: 0,\n",
       " 11: 3,\n",
       " 12: 0,\n",
       " 13: 0,\n",
       " 14: 0,\n",
       " 15: 4,\n",
       " 16: 1,\n",
       " 17: 7,\n",
       " 18: 7,\n",
       " 19: 6,\n",
       " 20: 0,\n",
       " 21: 1,\n",
       " 22: 1,\n",
       " 23: 1,\n",
       " 24: 0,\n",
       " 25: 0,\n",
       " 26: 0,\n",
       " 27: 0,\n",
       " 28: 0,\n",
       " 29: 0,\n",
       " 30: 0,\n",
       " 31: 2}"
      ]
     },
     "execution_count": 297,
     "metadata": {},
     "output_type": "execute_result"
    }
   ],
   "source": [
    "words_per_day('https://files.jazzmoon.ca/sample_tweets.json', 'health') "
   ]
  },
  {
   "cell_type": "code",
   "execution_count": 298,
   "metadata": {},
   "outputs": [],
   "source": [
    "# Welp"
   ]
  },
  {
   "cell_type": "code",
   "execution_count": 299,
   "metadata": {},
   "outputs": [],
   "source": [
    "# I can't delete these..."
   ]
  },
  {
   "cell_type": "code",
   "execution_count": null,
   "metadata": {},
   "outputs": [],
   "source": []
  },
  {
   "cell_type": "code",
   "execution_count": 300,
   "metadata": {
    "deletable": false,
    "editable": false,
    "nbgrader": {
     "cell_type": "code",
     "checksum": "91545f4c83e0a03e5de5cd42b23ade18",
     "grade": true,
     "grade_id": "cell-655a40239a386869",
     "locked": true,
     "points": 1,
     "schema_version": 3,
     "solution": false
    }
   },
   "outputs": [],
   "source": [
    "# Hidden test for Q3c"
   ]
  },
  {
   "cell_type": "code",
   "execution_count": 301,
   "metadata": {
    "deletable": false,
    "editable": false,
    "nbgrader": {
     "cell_type": "code",
     "checksum": "16efa2f359aee34b95cd08f8cfee3edd",
     "grade": true,
     "grade_id": "cell-fd9e9257ac15624e",
     "locked": true,
     "points": 1,
     "schema_version": 3,
     "solution": false
    }
   },
   "outputs": [],
   "source": [
    "# Hidden test for Q3c"
   ]
  },
  {
   "cell_type": "code",
   "execution_count": 302,
   "metadata": {
    "deletable": false,
    "editable": false,
    "nbgrader": {
     "cell_type": "code",
     "checksum": "0f624cd70ee143531be175a035803fae",
     "grade": true,
     "grade_id": "cell-a2fbd06ee45ab5ca",
     "locked": true,
     "points": 1,
     "schema_version": 3,
     "solution": false
    }
   },
   "outputs": [],
   "source": [
    "# Hidden test for Q3c"
   ]
  },
  {
   "cell_type": "code",
   "execution_count": null,
   "metadata": {},
   "outputs": [],
   "source": []
  }
 ],
 "metadata": {
  "kernelspec": {
   "display_name": "Python 3",
   "language": "python",
   "name": "python3"
  },
  "language_info": {
   "codemirror_mode": {
    "name": "ipython",
    "version": 3
   },
   "file_extension": ".py",
   "mimetype": "text/x-python",
   "name": "python",
   "nbconvert_exporter": "python",
   "pygments_lexer": "ipython3",
   "version": "3.8.5"
  }
 },
 "nbformat": 4,
 "nbformat_minor": 2
}
